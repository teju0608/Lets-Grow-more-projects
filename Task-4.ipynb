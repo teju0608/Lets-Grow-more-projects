{
 "cells": [
  {
   "cell_type": "markdown",
   "id": "30dfc586-094d-45b0-ae6b-e98e0439bf0b",
   "metadata": {},
   "source": [
    "## Beginner level: Task-4"
   ]
  },
  {
   "cell_type": "markdown",
   "id": "80a3fdb9-50da-42e4-bd38-5c2eee6e65e9",
   "metadata": {},
   "source": [
    "We need to read the image in RBG format and then convert it to a grayscale image. This will turn an image into a classic black and white photo. Then the next thing to do is invert the grayscale image also called negative image, this will be our inverted grayscale image. Inversion can be used to enhance details. Then we can finally create the pencil sketch by mixing the grayscale image with the inverted blurry image. This can be done by dividing the grayscale image by the inverted blurry image. Since images are just arrays, we can easily do this programmatically using the divide function from the cv2 library in Python."
   ]
  },
  {
   "cell_type": "markdown",
   "id": "8ef04715-6c89-411a-a45d-a2a8995d6192",
   "metadata": {},
   "source": [
    "##### Import libraries"
   ]
  },
  {
   "cell_type": "code",
   "execution_count": 1,
   "id": "496ff75c-0a38-4d85-a132-7c4366b1cba5",
   "metadata": {},
   "outputs": [],
   "source": [
    "# computer vision\n",
    "import cv2 as cv"
   ]
  },
  {
   "cell_type": "code",
   "execution_count": 2,
   "id": "fd34f60d-960c-4e78-9348-4f66db247159",
   "metadata": {},
   "outputs": [],
   "source": [
    "# read image\n",
    "img = cv.imread('cartoon.jpg')"
   ]
  },
  {
   "cell_type": "code",
   "execution_count": 3,
   "id": "1354bd9f-5622-4161-9bec-e61216116b4e",
   "metadata": {},
   "outputs": [],
   "source": [
    "# Convert the original image into gray image\n",
    "gray_img = cv.cvtColor(img, cv.COLOR_BGR2GRAY)"
   ]
  },
  {
   "cell_type": "code",
   "execution_count": 4,
   "id": "9e38222a-2a93-416b-82d6-9b3dcb7a3326",
   "metadata": {},
   "outputs": [],
   "source": [
    "# Inverting the image\n",
    "invert_img = cv.bitwise_not(gray_img)"
   ]
  },
  {
   "cell_type": "code",
   "execution_count": 5,
   "id": "86657858-f70d-4c39-add4-0dcd3efc1d0b",
   "metadata": {},
   "outputs": [],
   "source": [
    "# Blur image\n",
    "blur_img = cv.GaussianBlur(invert_img, (21,21), 0)"
   ]
  },
  {
   "cell_type": "code",
   "execution_count": 6,
   "id": "bba82356-1e18-4798-8962-1561b3876d5c",
   "metadata": {},
   "outputs": [],
   "source": [
    "# inverting the blured image\n",
    "invert_blur = cv.bitwise_not(blur_img)"
   ]
  },
  {
   "cell_type": "code",
   "execution_count": 7,
   "id": "472398a7-d2cc-4184-a067-62efcab68734",
   "metadata": {},
   "outputs": [],
   "source": [
    "# convert image into sketch\n",
    "sketch = cv.divide(gray_img, invert_blur, scale = 256.0)"
   ]
  },
  {
   "cell_type": "code",
   "execution_count": 8,
   "id": "8cf67dac-50c5-4cf9-835a-b0ab65eb2ca5",
   "metadata": {},
   "outputs": [
    {
     "data": {
      "text/plain": [
       "True"
      ]
     },
     "execution_count": 8,
     "metadata": {},
     "output_type": "execute_result"
    }
   ],
   "source": [
    "# Generating the sketch image \n",
    "cv.imwrite('cartoon_sketch.png', sketch)"
   ]
  },
  {
   "cell_type": "code",
   "execution_count": null,
   "id": "5de2f8f6-4975-4003-9cca-694760f3a327",
   "metadata": {},
   "outputs": [],
   "source": []
  }
 ],
 "metadata": {
  "kernelspec": {
   "display_name": "Python 3 (ipykernel)",
   "language": "python",
   "name": "python3"
  },
  "language_info": {
   "codemirror_mode": {
    "name": "ipython",
    "version": 3
   },
   "file_extension": ".py",
   "mimetype": "text/x-python",
   "name": "python",
   "nbconvert_exporter": "python",
   "pygments_lexer": "ipython3",
   "version": "3.10.13"
  }
 },
 "nbformat": 4,
 "nbformat_minor": 5
}
